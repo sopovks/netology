{
 "cells": [
  {
   "cell_type": "code",
   "execution_count": 87,
   "metadata": {},
   "outputs": [],
   "source": [
    "import numpy as np\n",
    "import pandas as pd"
   ]
  },
  {
   "cell_type": "code",
   "execution_count": 88,
   "metadata": {},
   "outputs": [],
   "source": [
    "from matplotlib import pyplot as plt\n",
    "%matplotlib inline\n",
    "import seaborn as sns\n",
    "\n",
    "%config InlineBackend.figure_format = 'retina'\n",
    "from pylab import rcParams\n",
    "rcParams['figure.figsize'] = (9, 6)"
   ]
  },
  {
   "cell_type": "code",
   "execution_count": 89,
   "metadata": {},
   "outputs": [],
   "source": [
    "from sklearn.impute import SimpleImputer"
   ]
  },
  {
   "cell_type": "code",
   "execution_count": 90,
   "metadata": {},
   "outputs": [],
   "source": [
    "from sklearn.compose import ColumnTransformer\n",
    "from sklearn.pipeline import Pipeline\n",
    "from sklearn.preprocessing import StandardScaler"
   ]
  },
  {
   "cell_type": "code",
   "execution_count": 91,
   "metadata": {},
   "outputs": [],
   "source": [
    "from sklearn.decomposition import PCA"
   ]
  },
  {
   "cell_type": "code",
   "execution_count": 187,
   "metadata": {},
   "outputs": [],
   "source": [
    "from sklearn.model_selection import train_test_split"
   ]
  },
  {
   "cell_type": "code",
   "execution_count": 114,
   "metadata": {},
   "outputs": [],
   "source": [
    "train = pd.read_csv('train.csv')\n",
    "test = pd.read_csv('test.csv')"
   ]
  },
  {
   "cell_type": "code",
   "execution_count": 115,
   "metadata": {},
   "outputs": [],
   "source": [
    "y_train = train.Survived\n",
    "train.drop('Survived', axis=1, inplace=True)"
   ]
  },
  {
   "cell_type": "code",
   "execution_count": 116,
   "metadata": {},
   "outputs": [],
   "source": [
    "def pre_process_data(inputDf):\n",
    "    df = inputDf.copy()\n",
    "    \n",
    "    df[\"is_male\"] = df.Sex.replace({\"male\": 1, \"female\": 0})\n",
    "\n",
    "    age_mean = df.Age.mean()\n",
    "    df.Age.fillna(value=age_mean, inplace=True)\n",
    "    \n",
    "    fare_mean = df.Fare.mean()\n",
    "    df.Fare.fillna(value=fare_mean, inplace=True)\n",
    "    \n",
    "    emb_most = df.Embarked.value_counts().index[0]\n",
    "    df.Embarked.fillna(value=emb_most, inplace=True)\n",
    "    \n",
    "    df = pd.get_dummies(df, columns=['Pclass', 'Embarked'])\n",
    "    \n",
    "    df.drop([\"Sex\", \"Cabin\", \"Ticket\", \"Name\", \"PassengerId\"], axis=1, inplace=True)\n",
    "    \n",
    "    return df"
   ]
  },
  {
   "cell_type": "code",
   "execution_count": 117,
   "metadata": {},
   "outputs": [
    {
     "data": {
      "text/html": [
       "<div>\n",
       "<style scoped>\n",
       "    .dataframe tbody tr th:only-of-type {\n",
       "        vertical-align: middle;\n",
       "    }\n",
       "\n",
       "    .dataframe tbody tr th {\n",
       "        vertical-align: top;\n",
       "    }\n",
       "\n",
       "    .dataframe thead th {\n",
       "        text-align: right;\n",
       "    }\n",
       "</style>\n",
       "<table border=\"1\" class=\"dataframe\">\n",
       "  <thead>\n",
       "    <tr style=\"text-align: right;\">\n",
       "      <th></th>\n",
       "      <th>PassengerId</th>\n",
       "      <th>Pclass</th>\n",
       "      <th>Name</th>\n",
       "      <th>Sex</th>\n",
       "      <th>Age</th>\n",
       "      <th>SibSp</th>\n",
       "      <th>Parch</th>\n",
       "      <th>Ticket</th>\n",
       "      <th>Fare</th>\n",
       "      <th>Cabin</th>\n",
       "      <th>Embarked</th>\n",
       "    </tr>\n",
       "  </thead>\n",
       "  <tbody>\n",
       "    <tr>\n",
       "      <th>0</th>\n",
       "      <td>1</td>\n",
       "      <td>3</td>\n",
       "      <td>Braund, Mr. Owen Harris</td>\n",
       "      <td>male</td>\n",
       "      <td>22.0</td>\n",
       "      <td>1</td>\n",
       "      <td>0</td>\n",
       "      <td>A/5 21171</td>\n",
       "      <td>7.2500</td>\n",
       "      <td>NaN</td>\n",
       "      <td>S</td>\n",
       "    </tr>\n",
       "    <tr>\n",
       "      <th>1</th>\n",
       "      <td>2</td>\n",
       "      <td>1</td>\n",
       "      <td>Cumings, Mrs. John Bradley (Florence Briggs Th...</td>\n",
       "      <td>female</td>\n",
       "      <td>38.0</td>\n",
       "      <td>1</td>\n",
       "      <td>0</td>\n",
       "      <td>PC 17599</td>\n",
       "      <td>71.2833</td>\n",
       "      <td>C85</td>\n",
       "      <td>C</td>\n",
       "    </tr>\n",
       "    <tr>\n",
       "      <th>2</th>\n",
       "      <td>3</td>\n",
       "      <td>3</td>\n",
       "      <td>Heikkinen, Miss. Laina</td>\n",
       "      <td>female</td>\n",
       "      <td>26.0</td>\n",
       "      <td>0</td>\n",
       "      <td>0</td>\n",
       "      <td>STON/O2. 3101282</td>\n",
       "      <td>7.9250</td>\n",
       "      <td>NaN</td>\n",
       "      <td>S</td>\n",
       "    </tr>\n",
       "    <tr>\n",
       "      <th>3</th>\n",
       "      <td>4</td>\n",
       "      <td>1</td>\n",
       "      <td>Futrelle, Mrs. Jacques Heath (Lily May Peel)</td>\n",
       "      <td>female</td>\n",
       "      <td>35.0</td>\n",
       "      <td>1</td>\n",
       "      <td>0</td>\n",
       "      <td>113803</td>\n",
       "      <td>53.1000</td>\n",
       "      <td>C123</td>\n",
       "      <td>S</td>\n",
       "    </tr>\n",
       "    <tr>\n",
       "      <th>4</th>\n",
       "      <td>5</td>\n",
       "      <td>3</td>\n",
       "      <td>Allen, Mr. William Henry</td>\n",
       "      <td>male</td>\n",
       "      <td>35.0</td>\n",
       "      <td>0</td>\n",
       "      <td>0</td>\n",
       "      <td>373450</td>\n",
       "      <td>8.0500</td>\n",
       "      <td>NaN</td>\n",
       "      <td>S</td>\n",
       "    </tr>\n",
       "  </tbody>\n",
       "</table>\n",
       "</div>"
      ],
      "text/plain": [
       "   PassengerId  Pclass                                               Name  \\\n",
       "0            1       3                            Braund, Mr. Owen Harris   \n",
       "1            2       1  Cumings, Mrs. John Bradley (Florence Briggs Th...   \n",
       "2            3       3                             Heikkinen, Miss. Laina   \n",
       "3            4       1       Futrelle, Mrs. Jacques Heath (Lily May Peel)   \n",
       "4            5       3                           Allen, Mr. William Henry   \n",
       "\n",
       "      Sex   Age  SibSp  Parch            Ticket     Fare Cabin Embarked  \n",
       "0    male  22.0      1      0         A/5 21171   7.2500   NaN        S  \n",
       "1  female  38.0      1      0          PC 17599  71.2833   C85        C  \n",
       "2  female  26.0      0      0  STON/O2. 3101282   7.9250   NaN        S  \n",
       "3  female  35.0      1      0            113803  53.1000  C123        S  \n",
       "4    male  35.0      0      0            373450   8.0500   NaN        S  "
      ]
     },
     "execution_count": 117,
     "metadata": {},
     "output_type": "execute_result"
    }
   ],
   "source": [
    "train.head()"
   ]
  },
  {
   "cell_type": "code",
   "execution_count": 160,
   "metadata": {},
   "outputs": [],
   "source": [
    "train_p = pre_process_data(train)"
   ]
  },
  {
   "cell_type": "code",
   "execution_count": 161,
   "metadata": {},
   "outputs": [
    {
     "data": {
      "text/html": [
       "<div>\n",
       "<style scoped>\n",
       "    .dataframe tbody tr th:only-of-type {\n",
       "        vertical-align: middle;\n",
       "    }\n",
       "\n",
       "    .dataframe tbody tr th {\n",
       "        vertical-align: top;\n",
       "    }\n",
       "\n",
       "    .dataframe thead th {\n",
       "        text-align: right;\n",
       "    }\n",
       "</style>\n",
       "<table border=\"1\" class=\"dataframe\">\n",
       "  <thead>\n",
       "    <tr style=\"text-align: right;\">\n",
       "      <th></th>\n",
       "      <th>Age</th>\n",
       "      <th>SibSp</th>\n",
       "      <th>Parch</th>\n",
       "      <th>Fare</th>\n",
       "      <th>is_male</th>\n",
       "      <th>Pclass_1</th>\n",
       "      <th>Pclass_2</th>\n",
       "      <th>Pclass_3</th>\n",
       "      <th>Embarked_C</th>\n",
       "      <th>Embarked_Q</th>\n",
       "      <th>Embarked_S</th>\n",
       "    </tr>\n",
       "  </thead>\n",
       "  <tbody>\n",
       "    <tr>\n",
       "      <th>0</th>\n",
       "      <td>22.0</td>\n",
       "      <td>1</td>\n",
       "      <td>0</td>\n",
       "      <td>7.2500</td>\n",
       "      <td>1</td>\n",
       "      <td>0</td>\n",
       "      <td>0</td>\n",
       "      <td>1</td>\n",
       "      <td>0</td>\n",
       "      <td>0</td>\n",
       "      <td>1</td>\n",
       "    </tr>\n",
       "    <tr>\n",
       "      <th>1</th>\n",
       "      <td>38.0</td>\n",
       "      <td>1</td>\n",
       "      <td>0</td>\n",
       "      <td>71.2833</td>\n",
       "      <td>0</td>\n",
       "      <td>1</td>\n",
       "      <td>0</td>\n",
       "      <td>0</td>\n",
       "      <td>1</td>\n",
       "      <td>0</td>\n",
       "      <td>0</td>\n",
       "    </tr>\n",
       "    <tr>\n",
       "      <th>2</th>\n",
       "      <td>26.0</td>\n",
       "      <td>0</td>\n",
       "      <td>0</td>\n",
       "      <td>7.9250</td>\n",
       "      <td>0</td>\n",
       "      <td>0</td>\n",
       "      <td>0</td>\n",
       "      <td>1</td>\n",
       "      <td>0</td>\n",
       "      <td>0</td>\n",
       "      <td>1</td>\n",
       "    </tr>\n",
       "    <tr>\n",
       "      <th>3</th>\n",
       "      <td>35.0</td>\n",
       "      <td>1</td>\n",
       "      <td>0</td>\n",
       "      <td>53.1000</td>\n",
       "      <td>0</td>\n",
       "      <td>1</td>\n",
       "      <td>0</td>\n",
       "      <td>0</td>\n",
       "      <td>0</td>\n",
       "      <td>0</td>\n",
       "      <td>1</td>\n",
       "    </tr>\n",
       "    <tr>\n",
       "      <th>4</th>\n",
       "      <td>35.0</td>\n",
       "      <td>0</td>\n",
       "      <td>0</td>\n",
       "      <td>8.0500</td>\n",
       "      <td>1</td>\n",
       "      <td>0</td>\n",
       "      <td>0</td>\n",
       "      <td>1</td>\n",
       "      <td>0</td>\n",
       "      <td>0</td>\n",
       "      <td>1</td>\n",
       "    </tr>\n",
       "  </tbody>\n",
       "</table>\n",
       "</div>"
      ],
      "text/plain": [
       "    Age  SibSp  Parch     Fare  is_male  Pclass_1  Pclass_2  Pclass_3  \\\n",
       "0  22.0      1      0   7.2500        1         0         0         1   \n",
       "1  38.0      1      0  71.2833        0         1         0         0   \n",
       "2  26.0      0      0   7.9250        0         0         0         1   \n",
       "3  35.0      1      0  53.1000        0         1         0         0   \n",
       "4  35.0      0      0   8.0500        1         0         0         1   \n",
       "\n",
       "   Embarked_C  Embarked_Q  Embarked_S  \n",
       "0           0           0           1  \n",
       "1           1           0           0  \n",
       "2           0           0           1  \n",
       "3           0           0           1  \n",
       "4           0           0           1  "
      ]
     },
     "execution_count": 161,
     "metadata": {},
     "output_type": "execute_result"
    }
   ],
   "source": [
    "train_p.head()"
   ]
  },
  {
   "cell_type": "code",
   "execution_count": 162,
   "metadata": {},
   "outputs": [],
   "source": [
    "scaler = StandardScaler()"
   ]
  },
  {
   "cell_type": "code",
   "execution_count": 163,
   "metadata": {},
   "outputs": [
    {
     "name": "stderr",
     "output_type": "stream",
     "text": [
      "C:\\Users\\costa\\Anaconda3\\lib\\site-packages\\sklearn\\preprocessing\\data.py:625: DataConversionWarning: Data with input dtype uint8, int64, float64 were all converted to float64 by StandardScaler.\n",
      "  return self.partial_fit(X, y)\n"
     ]
    },
    {
     "data": {
      "text/plain": [
       "StandardScaler(copy=True, with_mean=True, with_std=True)"
      ]
     },
     "execution_count": 163,
     "metadata": {},
     "output_type": "execute_result"
    }
   ],
   "source": [
    "scaler.fit(train_p)"
   ]
  },
  {
   "cell_type": "code",
   "execution_count": 164,
   "metadata": {},
   "outputs": [],
   "source": [
    "col_names = train_p.columns"
   ]
  },
  {
   "cell_type": "code",
   "execution_count": 165,
   "metadata": {},
   "outputs": [
    {
     "name": "stderr",
     "output_type": "stream",
     "text": [
      "C:\\Users\\costa\\Anaconda3\\lib\\site-packages\\ipykernel_launcher.py:1: DataConversionWarning: Data with input dtype uint8, int64, float64 were all converted to float64 by StandardScaler.\n",
      "  \"\"\"Entry point for launching an IPython kernel.\n"
     ]
    }
   ],
   "source": [
    "train_p = scaler.transform(train_p)\n",
    "train_p = pd.DataFrame(train_p, columns=col_names)"
   ]
  },
  {
   "cell_type": "code",
   "execution_count": 166,
   "metadata": {},
   "outputs": [
    {
     "data": {
      "text/html": [
       "<div>\n",
       "<style scoped>\n",
       "    .dataframe tbody tr th:only-of-type {\n",
       "        vertical-align: middle;\n",
       "    }\n",
       "\n",
       "    .dataframe tbody tr th {\n",
       "        vertical-align: top;\n",
       "    }\n",
       "\n",
       "    .dataframe thead th {\n",
       "        text-align: right;\n",
       "    }\n",
       "</style>\n",
       "<table border=\"1\" class=\"dataframe\">\n",
       "  <thead>\n",
       "    <tr style=\"text-align: right;\">\n",
       "      <th></th>\n",
       "      <th>Age</th>\n",
       "      <th>SibSp</th>\n",
       "      <th>Parch</th>\n",
       "      <th>Fare</th>\n",
       "      <th>is_male</th>\n",
       "      <th>Pclass_1</th>\n",
       "      <th>Pclass_2</th>\n",
       "      <th>Pclass_3</th>\n",
       "      <th>Embarked_C</th>\n",
       "      <th>Embarked_Q</th>\n",
       "      <th>Embarked_S</th>\n",
       "    </tr>\n",
       "  </thead>\n",
       "  <tbody>\n",
       "    <tr>\n",
       "      <th>0</th>\n",
       "      <td>-0.592481</td>\n",
       "      <td>0.432793</td>\n",
       "      <td>-0.473674</td>\n",
       "      <td>-0.502445</td>\n",
       "      <td>0.737695</td>\n",
       "      <td>-0.565685</td>\n",
       "      <td>-0.510152</td>\n",
       "      <td>0.902587</td>\n",
       "      <td>-0.482043</td>\n",
       "      <td>-0.307562</td>\n",
       "      <td>0.615838</td>\n",
       "    </tr>\n",
       "    <tr>\n",
       "      <th>1</th>\n",
       "      <td>0.638789</td>\n",
       "      <td>0.432793</td>\n",
       "      <td>-0.473674</td>\n",
       "      <td>0.786845</td>\n",
       "      <td>-1.355574</td>\n",
       "      <td>1.767767</td>\n",
       "      <td>-0.510152</td>\n",
       "      <td>-1.107926</td>\n",
       "      <td>2.074505</td>\n",
       "      <td>-0.307562</td>\n",
       "      <td>-1.623803</td>\n",
       "    </tr>\n",
       "    <tr>\n",
       "      <th>2</th>\n",
       "      <td>-0.284663</td>\n",
       "      <td>-0.474545</td>\n",
       "      <td>-0.473674</td>\n",
       "      <td>-0.488854</td>\n",
       "      <td>-1.355574</td>\n",
       "      <td>-0.565685</td>\n",
       "      <td>-0.510152</td>\n",
       "      <td>0.902587</td>\n",
       "      <td>-0.482043</td>\n",
       "      <td>-0.307562</td>\n",
       "      <td>0.615838</td>\n",
       "    </tr>\n",
       "    <tr>\n",
       "      <th>3</th>\n",
       "      <td>0.407926</td>\n",
       "      <td>0.432793</td>\n",
       "      <td>-0.473674</td>\n",
       "      <td>0.420730</td>\n",
       "      <td>-1.355574</td>\n",
       "      <td>1.767767</td>\n",
       "      <td>-0.510152</td>\n",
       "      <td>-1.107926</td>\n",
       "      <td>-0.482043</td>\n",
       "      <td>-0.307562</td>\n",
       "      <td>0.615838</td>\n",
       "    </tr>\n",
       "    <tr>\n",
       "      <th>4</th>\n",
       "      <td>0.407926</td>\n",
       "      <td>-0.474545</td>\n",
       "      <td>-0.473674</td>\n",
       "      <td>-0.486337</td>\n",
       "      <td>0.737695</td>\n",
       "      <td>-0.565685</td>\n",
       "      <td>-0.510152</td>\n",
       "      <td>0.902587</td>\n",
       "      <td>-0.482043</td>\n",
       "      <td>-0.307562</td>\n",
       "      <td>0.615838</td>\n",
       "    </tr>\n",
       "  </tbody>\n",
       "</table>\n",
       "</div>"
      ],
      "text/plain": [
       "        Age     SibSp     Parch      Fare   is_male  Pclass_1  Pclass_2  \\\n",
       "0 -0.592481  0.432793 -0.473674 -0.502445  0.737695 -0.565685 -0.510152   \n",
       "1  0.638789  0.432793 -0.473674  0.786845 -1.355574  1.767767 -0.510152   \n",
       "2 -0.284663 -0.474545 -0.473674 -0.488854 -1.355574 -0.565685 -0.510152   \n",
       "3  0.407926  0.432793 -0.473674  0.420730 -1.355574  1.767767 -0.510152   \n",
       "4  0.407926 -0.474545 -0.473674 -0.486337  0.737695 -0.565685 -0.510152   \n",
       "\n",
       "   Pclass_3  Embarked_C  Embarked_Q  Embarked_S  \n",
       "0  0.902587   -0.482043   -0.307562    0.615838  \n",
       "1 -1.107926    2.074505   -0.307562   -1.623803  \n",
       "2  0.902587   -0.482043   -0.307562    0.615838  \n",
       "3 -1.107926   -0.482043   -0.307562    0.615838  \n",
       "4  0.902587   -0.482043   -0.307562    0.615838  "
      ]
     },
     "execution_count": 166,
     "metadata": {},
     "output_type": "execute_result"
    }
   ],
   "source": [
    "train_p.head()"
   ]
  },
  {
   "cell_type": "code",
   "execution_count": 167,
   "metadata": {},
   "outputs": [],
   "source": [
    "pca = PCA(n_components=2)"
   ]
  },
  {
   "cell_type": "code",
   "execution_count": 168,
   "metadata": {},
   "outputs": [],
   "source": [
    "ppl = pca.fit_transform(train_p)"
   ]
  },
  {
   "cell_type": "code",
   "execution_count": 169,
   "metadata": {},
   "outputs": [
    {
     "data": {
      "text/plain": [
       "0.41022927885036076"
      ]
     },
     "execution_count": 169,
     "metadata": {},
     "output_type": "execute_result"
    }
   ],
   "source": [
    "pca.explained_variance_ratio_.sum()"
   ]
  },
  {
   "cell_type": "code",
   "execution_count": 178,
   "metadata": {},
   "outputs": [
    {
     "data": {
      "text/plain": [
       "Text(0.5, 1.0, 'Пассажиры Титаника')"
      ]
     },
     "execution_count": 178,
     "metadata": {},
     "output_type": "execute_result"
    },
    {
     "data": {
      "image/png": "[encoded data removed]",
      "text/plain": [
       "<Figure size 648x432 with 1 Axes>"
      ]
     },
     "metadata": {
      "image/png": {
       "height": 372,
       "width": 540
      },
      "needs_background": "light"
     },
     "output_type": "display_data"
    }
   ],
   "source": [
    "plt.plot(ppl[:,0], ppl[:,1], 'ro', alpha=0.1)\n",
    "plt.title('Пассажиры Титаника')"
   ]
  },
  {
   "cell_type": "code",
   "execution_count": 179,
   "metadata": {},
   "outputs": [],
   "source": [
    "from sklearn.cluster import KMeans"
   ]
  },
  {
   "cell_type": "code",
   "execution_count": 180,
   "metadata": {},
   "outputs": [],
   "source": [
    "n_clusters = 7"
   ]
  },
  {
   "cell_type": "code",
   "execution_count": 181,
   "metadata": {},
   "outputs": [],
   "source": [
    "kmeans = KMeans(n_clusters=n_clusters)"
   ]
  },
  {
   "cell_type": "code",
   "execution_count": 182,
   "metadata": {},
   "outputs": [
    {
     "data": {
      "text/plain": [
       "KMeans(algorithm='auto', copy_x=True, init='k-means++', max_iter=300,\n",
       "    n_clusters=7, n_init=10, n_jobs=None, precompute_distances='auto',\n",
       "    random_state=None, tol=0.0001, verbose=0)"
      ]
     },
     "execution_count": 182,
     "metadata": {},
     "output_type": "execute_result"
    }
   ],
   "source": [
    "kmeans.fit(train_p)"
   ]
  },
  {
   "cell_type": "code",
   "execution_count": 183,
   "metadata": {},
   "outputs": [],
   "source": [
    "cluster_labels = kmeans.predict(train_p)"
   ]
  },
  {
   "cell_type": "code",
   "execution_count": 184,
   "metadata": {},
   "outputs": [
    {
     "data": {
      "image/png": "[encoded data removed]",
      "text/plain": [
       "<Figure size 648x432 with 1 Axes>"
      ]
     },
     "metadata": {
      "image/png": {
       "height": 372,
       "width": 540
      },
      "needs_background": "light"
     },
     "output_type": "display_data"
    }
   ],
   "source": [
    "plt.title('Пассажиры Титаника')\n",
    "for i,color in zip(range(n_clusters),{'blue','red','green','black','orange','yellow'}):\n",
    "    t = ppl[cluster_labels==i]\n",
    "    plt.plot(t[:,0], t[:,1], 'ro', alpha=0.1, c=color)"
   ]
  },
  {
   "cell_type": "code",
   "execution_count": 268,
   "metadata": {},
   "outputs": [],
   "source": [
    "X_train_fin, X_val, y_train_fin, y_val = train_test_split(train_p, y_train, test_size=0.2)"
   ]
  },
  {
   "cell_type": "code",
   "execution_count": 269,
   "metadata": {},
   "outputs": [
    {
     "data": {
      "text/plain": [
       "(712, 11)"
      ]
     },
     "execution_count": 269,
     "metadata": {},
     "output_type": "execute_result"
    }
   ],
   "source": [
    "X_train_fin.shape"
   ]
  },
  {
   "cell_type": "code",
   "execution_count": 270,
   "metadata": {},
   "outputs": [
    {
     "data": {
      "text/plain": [
       "(179, 11)"
      ]
     },
     "execution_count": 270,
     "metadata": {},
     "output_type": "execute_result"
    }
   ],
   "source": [
    "X_val.shape"
   ]
  },
  {
   "cell_type": "code",
   "execution_count": 271,
   "metadata": {},
   "outputs": [],
   "source": [
    "test_p = pre_process_data(test)"
   ]
  },
  {
   "cell_type": "code",
   "execution_count": 272,
   "metadata": {},
   "outputs": [
    {
     "name": "stderr",
     "output_type": "stream",
     "text": [
      "C:\\Users\\costa\\Anaconda3\\lib\\site-packages\\ipykernel_launcher.py:1: DataConversionWarning: Data with input dtype uint8, int64, float64 were all converted to float64 by StandardScaler.\n",
      "  \"\"\"Entry point for launching an IPython kernel.\n"
     ]
    }
   ],
   "source": [
    "test_p = scaler.transform(test_p)\n",
    "test_p = pd.DataFrame(test_p, columns=col_names)"
   ]
  },
  {
   "cell_type": "code",
   "execution_count": 274,
   "metadata": {},
   "outputs": [
    {
     "data": {
      "text/plain": [
       "(418, 11)"
      ]
     },
     "execution_count": 274,
     "metadata": {},
     "output_type": "execute_result"
    }
   ],
   "source": [
    "test_p.shape"
   ]
  },
  {
   "cell_type": "code",
   "execution_count": 275,
   "metadata": {},
   "outputs": [
    {
     "data": {
      "text/plain": [
       "(712,)"
      ]
     },
     "execution_count": 275,
     "metadata": {},
     "output_type": "execute_result"
    }
   ],
   "source": [
    "y_train_fin.shape"
   ]
  },
  {
   "cell_type": "code",
   "execution_count": 276,
   "metadata": {},
   "outputs": [
    {
     "data": {
      "text/plain": [
       "(179,)"
      ]
     },
     "execution_count": 276,
     "metadata": {},
     "output_type": "execute_result"
    }
   ],
   "source": [
    "y_val.shape"
   ]
  },
  {
   "cell_type": "code",
   "execution_count": 277,
   "metadata": {},
   "outputs": [],
   "source": [
    "from sklearn.tree import DecisionTreeClassifier\n",
    "from sklearn.model_selection import GridSearchCV\n",
    "from sklearn.linear_model import LogisticRegression"
   ]
  },
  {
   "cell_type": "code",
   "execution_count": 289,
   "metadata": {},
   "outputs": [],
   "source": [
    "depths = np.arange(1,10)\n",
    "#features_num = np.arange(5,15)\n",
    "grid = {'max_depth': depths}#, 'max_features': features_num}\n",
    "gridsearch = GridSearchCV(DecisionTreeClassifier(), grid, scoring='accuracy', cv=5)"
   ]
  },
  {
   "cell_type": "code",
   "execution_count": 290,
   "metadata": {},
   "outputs": [
    {
     "name": "stdout",
     "output_type": "stream",
     "text": [
      "Wall time: 120 ms\n"
     ]
    },
    {
     "data": {
      "text/plain": [
       "GridSearchCV(cv=5, error_score='raise-deprecating',\n",
       "       estimator=DecisionTreeClassifier(class_weight=None, criterion='gini', max_depth=None,\n",
       "            max_features=None, max_leaf_nodes=None,\n",
       "            min_impurity_decrease=0.0, min_impurity_split=None,\n",
       "            min_samples_leaf=1, min_samples_split=2,\n",
       "            min_weight_fraction_leaf=0.0, presort=False, random_state=None,\n",
       "            splitter='best'),\n",
       "       fit_params=None, iid='warn', n_jobs=None,\n",
       "       param_grid={'max_depth': array([1, 2, 3, 4, 5, 6, 7, 8, 9])},\n",
       "       pre_dispatch='2*n_jobs', refit=True, return_train_score='warn',\n",
       "       scoring='accuracy', verbose=0)"
      ]
     },
     "execution_count": 290,
     "metadata": {},
     "output_type": "execute_result"
    }
   ],
   "source": [
    "%%time\n",
    "gridsearch.fit(X_train_fin, y_train_fin)"
   ]
  },
  {
   "cell_type": "code",
   "execution_count": 291,
   "metadata": {},
   "outputs": [
    {
     "name": "stdout",
     "output_type": "stream",
     "text": [
      "{'max_depth': 6}\n"
     ]
    }
   ],
   "source": [
    "print(gridsearch.best_params_ )"
   ]
  },
  {
   "cell_type": "code",
   "execution_count": 292,
   "metadata": {},
   "outputs": [
    {
     "name": "stderr",
     "output_type": "stream",
     "text": [
      "C:\\Users\\costa\\Anaconda3\\lib\\site-packages\\sklearn\\utils\\deprecation.py:125: FutureWarning: You are accessing a training score ('mean_train_score'), which will not be available by default any more in 0.21. If you need training scores, please set return_train_score=True\n",
      "  warnings.warn(*warn_args, **warn_kwargs)\n"
     ]
    },
    {
     "data": {
      "text/plain": [
       "array([0.7837098 , 0.79178183, 0.82338544, 0.84269602, 0.860259  ,\n",
       "       0.8820288 , 0.89923596, 0.9178454 , 0.93294237])"
      ]
     },
     "execution_count": 292,
     "metadata": {},
     "output_type": "execute_result"
    }
   ],
   "source": [
    "gridsearch.cv_results_['mean_train_score']"
   ]
  },
  {
   "cell_type": "code",
   "execution_count": 295,
   "metadata": {},
   "outputs": [
    {
     "data": {
      "text/plain": [
       "<matplotlib.collections.PathCollection at 0x2276e999d30>"
      ]
     },
     "execution_count": 295,
     "metadata": {},
     "output_type": "execute_result"
    },
    {
     "data": {
      "image/png": "[encoded data removed]",
      "text/plain": [
       "<Figure size 648x432 with 1 Axes>"
      ]
     },
     "metadata": {
      "image/png": {
       "height": 358,
       "width": 556
      },
      "needs_background": "light"
     },
     "output_type": "display_data"
    }
   ],
   "source": [
    "scores = [-x for x in gridsearch.cv_results_['mean_test_score']]\n",
    "plt.plot(depths, scores)\n",
    "plt.scatter(depths, scores)\n",
    "best_point = np.argmin(scores)\n",
    "plt.scatter(depths[best_point], scores[best_point], c='g', s=100)"
   ]
  },
  {
   "cell_type": "code",
   "execution_count": 296,
   "metadata": {},
   "outputs": [],
   "source": [
    "clf_final = DecisionTreeClassifier(max_depth=6)"
   ]
  },
  {
   "cell_type": "code",
   "execution_count": 297,
   "metadata": {},
   "outputs": [
    {
     "data": {
      "text/plain": [
       "DecisionTreeClassifier(class_weight=None, criterion='gini', max_depth=6,\n",
       "            max_features=None, max_leaf_nodes=None,\n",
       "            min_impurity_decrease=0.0, min_impurity_split=None,\n",
       "            min_samples_leaf=1, min_samples_split=2,\n",
       "            min_weight_fraction_leaf=0.0, presort=False, random_state=None,\n",
       "            splitter='best')"
      ]
     },
     "execution_count": 297,
     "metadata": {},
     "output_type": "execute_result"
    }
   ],
   "source": [
    "clf_final.fit(X_train_fin, y_train_fin)"
   ]
  },
  {
   "cell_type": "code",
   "execution_count": 298,
   "metadata": {},
   "outputs": [],
   "source": [
    "y_val_pred = clf_final.predict(X_val)"
   ]
  },
  {
   "cell_type": "code",
   "execution_count": 299,
   "metadata": {},
   "outputs": [
    {
     "data": {
      "text/plain": [
       "0.8044692737430168"
      ]
     },
     "execution_count": 299,
     "metadata": {},
     "output_type": "execute_result"
    }
   ],
   "source": [
    "accuracy_score(y_val, y_val_pred)"
   ]
  },
  {
   "cell_type": "code",
   "execution_count": 308,
   "metadata": {},
   "outputs": [
    {
     "data": {
      "text/plain": [
       "array([0.11743753, 0.05214553, 0.01267137, 0.11779781, 0.51403606,\n",
       "       0.04578961, 0.        , 0.12874264, 0.00313023, 0.        ,\n",
       "       0.00824922])"
      ]
     },
     "execution_count": 308,
     "metadata": {},
     "output_type": "execute_result"
    }
   ],
   "source": [
    "clf_final.feature_importances_"
   ]
  },
  {
   "cell_type": "code",
   "execution_count": 309,
   "metadata": {},
   "outputs": [
    {
     "data": {
      "text/plain": [
       "Index(['Age', 'SibSp', 'Parch', 'Fare', 'is_male', 'Pclass_1', 'Pclass_2',\n",
       "       'Pclass_3', 'Embarked_C', 'Embarked_Q', 'Embarked_S'],\n",
       "      dtype='object')"
      ]
     },
     "execution_count": 309,
     "metadata": {},
     "output_type": "execute_result"
    }
   ],
   "source": [
    "X_train_fin.columns"
   ]
  },
  {
   "cell_type": "code",
   "execution_count": 300,
   "metadata": {},
   "outputs": [
    {
     "data": {
      "text/plain": [
       "DecisionTreeClassifier(class_weight=None, criterion='gini', max_depth=6,\n",
       "            max_features=None, max_leaf_nodes=None,\n",
       "            min_impurity_decrease=0.0, min_impurity_split=None,\n",
       "            min_samples_leaf=1, min_samples_split=2,\n",
       "            min_weight_fraction_leaf=0.0, presort=False, random_state=None,\n",
       "            splitter='best')"
      ]
     },
     "execution_count": 300,
     "metadata": {},
     "output_type": "execute_result"
    }
   ],
   "source": [
    "clf_final.fit(train_p, y_train)"
   ]
  },
  {
   "cell_type": "code",
   "execution_count": 301,
   "metadata": {},
   "outputs": [
    {
     "data": {
      "text/plain": [
       "array([[0.91011236, 0.08988764],\n",
       "       [1.        , 0.        ],\n",
       "       [0.91011236, 0.08988764],\n",
       "       [0.91011236, 0.08988764],\n",
       "       [0.33333333, 0.66666667],\n",
       "       [0.91011236, 0.08988764],\n",
       "       [0.25490196, 0.74509804],\n",
       "       [0.91011236, 0.08988764],\n",
       "       [0.25490196, 0.74509804],\n",
       "       [0.91011236, 0.08988764]])"
      ]
     },
     "execution_count": 301,
     "metadata": {},
     "output_type": "execute_result"
    }
   ],
   "source": [
    "clf_final.predict_proba(test_p)[:10]"
   ]
  },
  {
   "cell_type": "code",
   "execution_count": 303,
   "metadata": {},
   "outputs": [
    {
     "data": {
      "text/plain": [
       "array([0, 0, 0, 0, 1, 0, 1, 0, 1, 0, 0, 0, 1, 0, 1, 1, 0, 0, 0, 0, 0, 1,\n",
       "       1, 0, 1, 0, 1, 0, 0, 0, 0, 0, 1, 0, 0, 0, 0, 0, 0, 1, 0, 1, 0, 1,\n",
       "       1, 0, 0, 0, 1, 1, 0, 0, 1, 1, 0, 0, 0, 0, 0, 1, 0, 0, 0, 1, 0, 1,\n",
       "       1, 0, 0, 1, 1, 0, 0, 0, 1, 0, 0, 1, 0, 1, 1, 0, 0, 0, 0, 0, 1, 0,\n",
       "       0, 1, 1, 0, 1, 0, 0, 0, 1, 0, 0, 0, 1, 0, 0, 0, 1, 0, 0, 0, 0, 0,\n",
       "       0, 0, 1, 1, 1, 0, 0, 1, 0, 1, 1, 0, 1, 0, 0, 1, 0, 0, 0, 0, 0, 0,\n",
       "       0, 0, 0, 0, 0, 0, 0, 0, 0, 1, 0, 0, 1, 0, 0, 0, 1, 0, 1, 0, 0, 1,\n",
       "       0, 0, 1, 0, 1, 1, 0, 1, 1, 0, 0, 1, 0, 0, 1, 0, 0, 0, 0, 0, 0, 1,\n",
       "       1, 0, 1, 1, 0, 0, 1, 0, 1, 0, 1, 0, 0, 0, 0, 0, 1, 0, 1, 0, 1, 0,\n",
       "       0, 0, 0, 1, 0, 1, 0, 0, 0, 0, 1, 0, 0, 0, 0, 0, 0, 0, 0, 0, 1, 0,\n",
       "       1, 0, 1, 0, 1, 0, 0, 0, 0, 0, 0, 1, 0, 0, 0, 0, 0, 0, 1, 1, 1, 1,\n",
       "       0, 0, 0, 0, 1, 0, 1, 0, 0, 0, 0, 0, 0, 0, 0, 0, 1, 0, 0, 0, 1, 1,\n",
       "       0, 0, 0, 0, 0, 0, 0, 0, 1, 0, 0, 1, 0, 0, 0, 0, 0, 1, 0, 1, 1, 0,\n",
       "       0, 0, 0, 0, 0, 1, 0, 0, 0, 0, 0, 0, 0, 0, 0, 0, 0, 0, 0, 0, 0, 1,\n",
       "       0, 0, 0, 0, 0, 0, 1, 1, 0, 0, 0, 0, 0, 0, 0, 1, 1, 0, 1, 0, 0, 0,\n",
       "       1, 0, 0, 1, 0, 0, 0, 0, 0, 0, 0, 0, 0, 1, 0, 0, 0, 0, 0, 1, 1, 0,\n",
       "       0, 0, 1, 0, 1, 0, 0, 1, 0, 1, 1, 0, 1, 0, 0, 1, 1, 0, 0, 1, 0, 0,\n",
       "       1, 1, 0, 0, 0, 1, 0, 0, 1, 1, 0, 1, 0, 0, 0, 0, 0, 1, 0, 0, 0, 1,\n",
       "       0, 1, 0, 0, 1, 0, 1, 0, 0, 0, 0, 0, 0, 1, 0, 1, 0, 0, 1, 0, 0, 0],\n",
       "      dtype=int64)"
      ]
     },
     "execution_count": 303,
     "metadata": {},
     "output_type": "execute_result"
    }
   ],
   "source": [
    "predictions = clf_final.predict(test_p)\n",
    "predictions"
   ]
  },
  {
   "cell_type": "code",
   "execution_count": 304,
   "metadata": {},
   "outputs": [],
   "source": [
    "submussion = 'PassengerId,Survived\\n'\n",
    "submussion += \"\\n\".join([\"{},{}\".format(pid, prediction) for pid, prediction in zip(test.PassengerId, predictions)])"
   ]
  },
  {
   "cell_type": "code",
   "execution_count": 310,
   "metadata": {},
   "outputs": [],
   "source": [
    "with open('submission.csv', 'w') as file:\n",
    "    file.write(submussion)"
   ]
  },
  {
   "cell_type": "code",
   "execution_count": 311,
   "metadata": {},
   "outputs": [
    {
     "name": "stdout",
     "output_type": "stream",
     "text": [
      "Successfully submitted to Titanic: Machine Learning from Disaster\n"
     ]
    },
    {
     "name": "stderr",
     "output_type": "stream",
     "text": [
      "\n",
      "  0%|          | 0.00/3.18k [00:00<?, ?B/s]\n",
      "100%|##########| 3.18k/3.18k [00:03<00:00, 914B/s]\n"
     ]
    }
   ],
   "source": [
    "!kaggle competitions submit -c titanic -f submission.csv -m \"1st test submit\""
   ]
  },
  {
   "cell_type": "code",
   "execution_count": 306,
   "metadata": {},
   "outputs": [],
   "source": [
    "from sklearn.tree import export_graphviz\n",
    "\n",
    "def get_tree_dot_view(clf, feature_names=None, class_names=None):\n",
    "    print(export_graphviz(clf, out_file=None, filled=True, feature_names=feature_names, class_names=class_names))"
   ]
  },
  {
   "cell_type": "code",
   "execution_count": 307,
   "metadata": {},
   "outputs": [
    {
     "name": "stdout",
     "output_type": "stream",
     "text": [
      "digraph Tree {\n",
      "node [shape=box, style=\"filled\", color=\"black\"] ;\n",
      "0 [label=\"is_male <= -0.309\\ngini = 0.473\\nsamples = 891\\nvalue = [549, 342]\\nclass = Not survived\", fillcolor=\"#e5813960\"] ;\n",
      "1 [label=\"Pclass_3 <= -0.103\\ngini = 0.383\\nsamples = 314\\nvalue = [81, 233]\\nclass = Survived\", fillcolor=\"#399de5a6\"] ;\n",
      "0 -> 1 [labeldistance=2.5, labelangle=45, headlabel=\"True\"] ;\n",
      "2 [label=\"Age <= -2.093\\ngini = 0.1\\nsamples = 170\\nvalue = [9, 161]\\nclass = Survived\", fillcolor=\"#399de5f1\"] ;\n",
      "1 -> 2 ;\n",
      "3 [label=\"Parch <= 1.388\\ngini = 0.5\\nsamples = 2\\nvalue = [1, 1]\\nclass = Not survived\", fillcolor=\"#e5813900\"] ;\n",
      "2 -> 3 ;\n",
      "4 [label=\"gini = 0.0\\nsamples = 1\\nvalue = [0, 1]\\nclass = Survived\", fillcolor=\"#399de5ff\"] ;\n",
      "3 -> 4 ;\n",
      "5 [label=\"gini = 0.0\\nsamples = 1\\nvalue = [1, 0]\\nclass = Not survived\", fillcolor=\"#e58139ff\"] ;\n",
      "3 -> 5 ;\n",
      "6 [label=\"Fare <= -0.067\\ngini = 0.091\\nsamples = 168\\nvalue = [8, 160]\\nclass = Survived\", fillcolor=\"#399de5f2\"] ;\n",
      "2 -> 6 ;\n",
      "7 [label=\"Fare <= -0.08\\ngini = 0.182\\nsamples = 69\\nvalue = [7, 62]\\nclass = Survived\", fillcolor=\"#399de5e2\"] ;\n",
      "6 -> 7 ;\n",
      "8 [label=\"Age <= 2.024\\ngini = 0.161\\nsamples = 68\\nvalue = [6, 62]\\nclass = Survived\", fillcolor=\"#399de5e6\"] ;\n",
      "7 -> 8 ;\n",
      "9 [label=\"gini = 0.14\\nsamples = 66\\nvalue = [5, 61]\\nclass = Survived\", fillcolor=\"#399de5ea\"] ;\n",
      "8 -> 9 ;\n",
      "10 [label=\"gini = 0.5\\nsamples = 2\\nvalue = [1, 1]\\nclass = Not survived\", fillcolor=\"#e5813900\"] ;\n",
      "8 -> 10 ;\n",
      "11 [label=\"gini = 0.0\\nsamples = 1\\nvalue = [1, 0]\\nclass = Not survived\", fillcolor=\"#e58139ff\"] ;\n",
      "7 -> 11 ;\n",
      "12 [label=\"Parch <= 1.388\\ngini = 0.02\\nsamples = 99\\nvalue = [1, 98]\\nclass = Survived\", fillcolor=\"#399de5fc\"] ;\n",
      "6 -> 12 ;\n",
      "13 [label=\"gini = 0.0\\nsamples = 84\\nvalue = [0, 84]\\nclass = Survived\", fillcolor=\"#399de5ff\"] ;\n",
      "12 -> 13 ;\n",
      "14 [label=\"Age <= -0.4\\ngini = 0.124\\nsamples = 15\\nvalue = [1, 14]\\nclass = Survived\", fillcolor=\"#399de5ed\"] ;\n",
      "12 -> 14 ;\n",
      "15 [label=\"gini = 0.0\\nsamples = 10\\nvalue = [0, 10]\\nclass = Survived\", fillcolor=\"#399de5ff\"] ;\n",
      "14 -> 15 ;\n",
      "16 [label=\"gini = 0.32\\nsamples = 5\\nvalue = [1, 4]\\nclass = Survived\", fillcolor=\"#399de5bf\"] ;\n",
      "14 -> 16 ;\n",
      "17 [label=\"Fare <= -0.178\\ngini = 0.5\\nsamples = 144\\nvalue = [72, 72]\\nclass = Not survived\", fillcolor=\"#e5813900\"] ;\n",
      "1 -> 17 ;\n",
      "18 [label=\"Age <= 0.523\\ngini = 0.484\\nsamples = 117\\nvalue = [48, 69]\\nclass = Survived\", fillcolor=\"#399de54e\"] ;\n",
      "17 -> 18 ;\n",
      "19 [label=\"Embarked_S <= -0.504\\ngini = 0.472\\nsamples = 110\\nvalue = [42, 68]\\nclass = Survived\", fillcolor=\"#399de561\"] ;\n",
      "18 -> 19 ;\n",
      "20 [label=\"Age <= 0.031\\ngini = 0.406\\nsamples = 53\\nvalue = [15, 38]\\nclass = Survived\", fillcolor=\"#399de59a\"] ;\n",
      "19 -> 20 ;\n",
      "21 [label=\"gini = 0.38\\nsamples = 51\\nvalue = [13, 38]\\nclass = Survived\", fillcolor=\"#399de5a8\"] ;\n",
      "20 -> 21 ;\n",
      "22 [label=\"gini = 0.0\\nsamples = 2\\nvalue = [2, 0]\\nclass = Not survived\", fillcolor=\"#e58139ff\"] ;\n",
      "20 -> 22 ;\n",
      "23 [label=\"Fare <= -0.43\\ngini = 0.499\\nsamples = 57\\nvalue = [27, 30]\\nclass = Survived\", fillcolor=\"#399de519\"] ;\n",
      "19 -> 23 ;\n",
      "24 [label=\"gini = 0.489\\nsamples = 33\\nvalue = [19, 14]\\nclass = Not survived\", fillcolor=\"#e5813943\"] ;\n",
      "23 -> 24 ;\n",
      "25 [label=\"gini = 0.444\\nsamples = 24\\nvalue = [8, 16]\\nclass = Survived\", fillcolor=\"#399de57f\"] ;\n",
      "23 -> 25 ;\n",
      "26 [label=\"Age <= 1.947\\ngini = 0.245\\nsamples = 7\\nvalue = [6, 1]\\nclass = Not survived\", fillcolor=\"#e58139d4\"] ;\n",
      "18 -> 26 ;\n",
      "27 [label=\"gini = 0.0\\nsamples = 6\\nvalue = [6, 0]\\nclass = Not survived\", fillcolor=\"#e58139ff\"] ;\n",
      "26 -> 27 ;\n",
      "28 [label=\"gini = 0.0\\nsamples = 1\\nvalue = [0, 1]\\nclass = Survived\", fillcolor=\"#399de5ff\"] ;\n",
      "26 -> 28 ;\n",
      "29 [label=\"Parch <= 0.147\\ngini = 0.198\\nsamples = 27\\nvalue = [24, 3]\\nclass = Not survived\", fillcolor=\"#e58139df\"] ;\n",
      "17 -> 29 ;\n",
      "30 [label=\"gini = 0.0\\nsamples = 1\\nvalue = [0, 1]\\nclass = Survived\", fillcolor=\"#399de5ff\"] ;\n",
      "29 -> 30 ;\n",
      "31 [label=\"Age <= -1.862\\ngini = 0.142\\nsamples = 26\\nvalue = [24, 2]\\nclass = Not survived\", fillcolor=\"#e58139ea\"] ;\n",
      "29 -> 31 ;\n",
      "32 [label=\"Fare <= -0.018\\ngini = 0.444\\nsamples = 3\\nvalue = [2, 1]\\nclass = Not survived\", fillcolor=\"#e581397f\"] ;\n",
      "31 -> 32 ;\n",
      "33 [label=\"gini = 0.0\\nsamples = 2\\nvalue = [2, 0]\\nclass = Not survived\", fillcolor=\"#e58139ff\"] ;\n",
      "32 -> 33 ;\n",
      "34 [label=\"gini = 0.0\\nsamples = 1\\nvalue = [0, 1]\\nclass = Survived\", fillcolor=\"#399de5ff\"] ;\n",
      "32 -> 34 ;\n",
      "35 [label=\"Parch <= 5.112\\ngini = 0.083\\nsamples = 23\\nvalue = [22, 1]\\nclass = Not survived\", fillcolor=\"#e58139f3\"] ;\n",
      "31 -> 35 ;\n",
      "36 [label=\"gini = 0.0\\nsamples = 18\\nvalue = [18, 0]\\nclass = Not survived\", fillcolor=\"#e58139ff\"] ;\n",
      "35 -> 36 ;\n",
      "37 [label=\"gini = 0.32\\nsamples = 5\\nvalue = [4, 1]\\nclass = Not survived\", fillcolor=\"#e58139bf\"] ;\n",
      "35 -> 37 ;\n",
      "38 [label=\"Age <= -1.785\\ngini = 0.306\\nsamples = 577\\nvalue = [468, 109]\\nclass = Not survived\", fillcolor=\"#e58139c4\"] ;\n",
      "0 -> 38 [labeldistance=2.5, labelangle=-45, headlabel=\"False\"] ;\n",
      "39 [label=\"SibSp <= 1.794\\ngini = 0.444\\nsamples = 24\\nvalue = [8, 16]\\nclass = Survived\", fillcolor=\"#399de57f\"] ;\n",
      "38 -> 39 ;\n",
      "40 [label=\"gini = 0.0\\nsamples = 15\\nvalue = [0, 15]\\nclass = Survived\", fillcolor=\"#399de5ff\"] ;\n",
      "39 -> 40 ;\n",
      "41 [label=\"Fare <= -0.018\\ngini = 0.198\\nsamples = 9\\nvalue = [8, 1]\\nclass = Not survived\", fillcolor=\"#e58139df\"] ;\n",
      "39 -> 41 ;\n",
      "42 [label=\"gini = 0.0\\nsamples = 5\\nvalue = [5, 0]\\nclass = Not survived\", fillcolor=\"#e58139ff\"] ;\n",
      "41 -> 42 ;\n",
      "43 [label=\"Age <= -2.093\\ngini = 0.375\\nsamples = 4\\nvalue = [3, 1]\\nclass = Not survived\", fillcolor=\"#e58139aa\"] ;\n",
      "41 -> 43 ;\n",
      "44 [label=\"gini = 0.0\\nsamples = 3\\nvalue = [3, 0]\\nclass = Not survived\", fillcolor=\"#e58139ff\"] ;\n",
      "43 -> 44 ;\n",
      "45 [label=\"gini = 0.0\\nsamples = 1\\nvalue = [0, 1]\\nclass = Survived\", fillcolor=\"#399de5ff\"] ;\n",
      "43 -> 45 ;\n",
      "46 [label=\"Pclass_1 <= 0.601\\ngini = 0.28\\nsamples = 553\\nvalue = [460, 93]\\nclass = Not survived\", fillcolor=\"#e58139cb\"] ;\n",
      "38 -> 46 ;\n",
      "47 [label=\"Fare <= 0.392\\ngini = 0.204\\nsamples = 433\\nvalue = [383, 50]\\nclass = Not survived\", fillcolor=\"#e58139de\"] ;\n",
      "46 -> 47 ;\n",
      "48 [label=\"Age <= -1.285\\ngini = 0.193\\nsamples = 417\\nvalue = [372, 45]\\nclass = Not survived\", fillcolor=\"#e58139e0\"] ;\n",
      "47 -> 48 ;\n",
      "49 [label=\"SibSp <= 1.34\\ngini = 0.444\\nsamples = 12\\nvalue = [8, 4]\\nclass = Not survived\", fillcolor=\"#e581397f\"] ;\n",
      "48 -> 49 ;\n",
      "50 [label=\"gini = 0.32\\nsamples = 5\\nvalue = [1, 4]\\nclass = Survived\", fillcolor=\"#399de5bf\"] ;\n",
      "49 -> 50 ;\n",
      "51 [label=\"gini = 0.0\\nsamples = 7\\nvalue = [7, 0]\\nclass = Not survived\", fillcolor=\"#e58139ff\"] ;\n",
      "49 -> 51 ;\n",
      "52 [label=\"Embarked_C <= 0.796\\ngini = 0.182\\nsamples = 405\\nvalue = [364, 41]\\nclass = Not survived\", fillcolor=\"#e58139e2\"] ;\n",
      "48 -> 52 ;\n",
      "53 [label=\"gini = 0.164\\nsamples = 356\\nvalue = [324, 32]\\nclass = Not survived\", fillcolor=\"#e58139e6\"] ;\n",
      "52 -> 53 ;\n",
      "54 [label=\"gini = 0.3\\nsamples = 49\\nvalue = [40, 9]\\nclass = Not survived\", fillcolor=\"#e58139c6\"] ;\n",
      "52 -> 54 ;\n",
      "55 [label=\"Fare <= 0.621\\ngini = 0.43\\nsamples = 16\\nvalue = [11, 5]\\nclass = Not survived\", fillcolor=\"#e581398b\"] ;\n",
      "47 -> 55 ;\n",
      "56 [label=\"Age <= 0.089\\ngini = 0.408\\nsamples = 7\\nvalue = [2, 5]\\nclass = Survived\", fillcolor=\"#399de599\"] ;\n",
      "55 -> 56 ;\n",
      "57 [label=\"gini = 0.48\\nsamples = 5\\nvalue = [2, 3]\\nclass = Survived\", fillcolor=\"#399de555\"] ;\n",
      "56 -> 57 ;\n",
      "58 [label=\"gini = 0.0\\nsamples = 2\\nvalue = [0, 2]\\nclass = Survived\", fillcolor=\"#399de5ff\"] ;\n",
      "56 -> 58 ;\n",
      "59 [label=\"gini = 0.0\\nsamples = 9\\nvalue = [9, 0]\\nclass = Not survived\", fillcolor=\"#e58139ff\"] ;\n",
      "55 -> 59 ;\n",
      "60 [label=\"Fare <= -0.122\\ngini = 0.46\\nsamples = 120\\nvalue = [77, 43]\\nclass = Not survived\", fillcolor=\"#e5813971\"] ;\n",
      "46 -> 60 ;\n",
      "61 [label=\"gini = 0.0\\nsamples = 10\\nvalue = [10, 0]\\nclass = Not survived\", fillcolor=\"#e58139ff\"] ;\n",
      "60 -> 61 ;\n",
      "62 [label=\"Age <= 1.793\\ngini = 0.476\\nsamples = 110\\nvalue = [67, 43]\\nclass = Not survived\", fillcolor=\"#e581395b\"] ;\n",
      "60 -> 62 ;\n",
      "63 [label=\"Fare <= -0.102\\ngini = 0.495\\nsamples = 89\\nvalue = [49, 40]\\nclass = Not survived\", fillcolor=\"#e581392f\"] ;\n",
      "62 -> 63 ;\n",
      "64 [label=\"gini = 0.26\\nsamples = 13\\nvalue = [2, 11]\\nclass = Survived\", fillcolor=\"#399de5d1\"] ;\n",
      "63 -> 64 ;\n",
      "65 [label=\"gini = 0.472\\nsamples = 76\\nvalue = [47, 29]\\nclass = Not survived\", fillcolor=\"#e5813962\"] ;\n",
      "63 -> 65 ;\n",
      "66 [label=\"Age <= 3.525\\ngini = 0.245\\nsamples = 21\\nvalue = [18, 3]\\nclass = Not survived\", fillcolor=\"#e58139d4\"] ;\n",
      "62 -> 66 ;\n",
      "67 [label=\"gini = 0.18\\nsamples = 20\\nvalue = [18, 2]\\nclass = Not survived\", fillcolor=\"#e58139e3\"] ;\n",
      "66 -> 67 ;\n",
      "68 [label=\"gini = 0.0\\nsamples = 1\\nvalue = [0, 1]\\nclass = Survived\", fillcolor=\"#399de5ff\"] ;\n",
      "66 -> 68 ;\n",
      "}\n"
     ]
    }
   ],
   "source": [
    "get_tree_dot_view(clf_final, list(train_p.columns), ['Not survived', 'Survived'])"
   ]
  },
  {
   "cell_type": "code",
   "execution_count": null,
   "metadata": {},
   "outputs": [],
   "source": []
  }
 ],
 "metadata": {
  "kernelspec": {
   "display_name": "Python 3",
   "language": "python",
   "name": "python3"
  },
  "language_info": {
   "codemirror_mode": {
    "name": "ipython",
    "version": 3
   },
   "file_extension": ".py",
   "mimetype": "text/x-python",
   "name": "python",
   "nbconvert_exporter": "python",
   "pygments_lexer": "ipython3",
   "version": "3.7.2"
  }
 },
 "nbformat": 4,
 "nbformat_minor": 2
}
