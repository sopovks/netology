{
 "cells": [
  {
   "cell_type": "code",
   "execution_count": 1,
   "metadata": {},
   "outputs": [],
   "source": [
    "import Levenshtein"
   ]
  },
  {
   "cell_type": "code",
   "execution_count": 2,
   "metadata": {},
   "outputs": [],
   "source": [
    "claim_list = [\n",
    "    'Шехавцова Анна',\n",
    "    'Гречихина Наталья',\n",
    "    'Козлова Алена',\n",
    "    'Груздева Алина',\n",
    "    'Кущенко Анна',\n",
    "    'Чистякова Анастасия'\n",
    "]"
   ]
  },
  {
   "cell_type": "code",
   "execution_count": 3,
   "metadata": {},
   "outputs": [],
   "source": [
    "speech_recognition = [\n",
    "    'кучменко она',\n",
    "    'кущенко оксана',\n",
    "    'груздь алина',\n",
    "    'рычихина наталья',\n",
    "    'шиховцева на',\n",
    "    'чистова анастасия'\n",
    "]"
   ]
  },
  {
   "cell_type": "code",
   "execution_count": 25,
   "metadata": {},
   "outputs": [
    {
     "name": "stdout",
     "output_type": "stream",
     "text": [
      "кучменко она  ->  ('Кущенко Анна', 5)\n",
      "кущенко оксана  ->  ('Кущенко Анна', 5)\n",
      "груздь алина  ->  ('Груздева Алина', 5)\n",
      "рычихина наталья  ->  ('Гречихина Наталья', 3)\n",
      "шиховцева на  ->  ('Шехавцова Анна', 6)\n",
      "чистова анастасия  ->  ('Чистякова Анастасия', 4)\n"
     ]
    }
   ],
   "source": [
    "for recognized_name in speech_recognition:\n",
    "    distances = {real_name: Levenshtein.distance(recognized_name, real_name) for real_name in claim_list}\n",
    "    print(recognized_name,' -> ',sorted(distances.items(), key = lambda x:x[1])[0])"
   ]
  },
  {
   "cell_type": "code",
   "execution_count": null,
   "metadata": {},
   "outputs": [],
   "source": []
  }
 ],
 "metadata": {
  "kernelspec": {
   "display_name": "Python 3",
   "language": "python",
   "name": "python3"
  },
  "language_info": {
   "codemirror_mode": {
    "name": "ipython",
    "version": 3
   },
   "file_extension": ".py",
   "mimetype": "text/x-python",
   "name": "python",
   "nbconvert_exporter": "python",
   "pygments_lexer": "ipython3",
   "version": "3.7.2"
  }
 },
 "nbformat": 4,
 "nbformat_minor": 2
}
