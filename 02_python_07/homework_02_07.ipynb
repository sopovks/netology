{
 "cells": [
  {
   "cell_type": "code",
   "execution_count": 2,
   "metadata": {},
   "outputs": [],
   "source": [
    "import os\n",
    "import logging\n",
    "\n",
    "import psycopg2\n",
    "import psycopg2.extensions\n",
    "from pymongo import MongoClient\n",
    "import pandas as pd\n",
    "from sqlalchemy import create_engine\n",
    "from sqlalchemy import Table, Column, Integer, Float, MetaData, String\n",
    "from sqlalchemy.orm import sessionmaker\n",
    "from sqlalchemy.ext.declarative import declarative_base"
   ]
  },
  {
   "cell_type": "code",
   "execution_count": 107,
   "metadata": {},
   "outputs": [],
   "source": [
    "import numpy as np"
   ]
  },
  {
   "cell_type": "code",
   "execution_count": 3,
   "metadata": {},
   "outputs": [],
   "source": [
    "#обращение к PSQL в виртуалке через проброс порта\n",
    "db_params = {\n",
    "    \"host\":\"127.0.0.1\",\n",
    "    \"port\": 5432,\n",
    "    \"dbname\": \"netology\",\n",
    "    \"user\": \"user_1\",\n",
    "    \"password\": \"test123\"\n",
    "}"
   ]
  },
  {
   "cell_type": "code",
   "execution_count": 11,
   "metadata": {},
   "outputs": [],
   "source": [
    "conn = psycopg2.connect(**db_params)\n",
    "\n",
    "# дополнительные настройки\n",
    "psycopg2.extensions.register_type(\n",
    "    psycopg2.extensions.UNICODE,\n",
    "    conn\n",
    ")\n",
    "conn.set_isolation_level(\n",
    "    psycopg2.extensions.ISOLATION_LEVEL_AUTOCOMMIT\n",
    ")\n",
    "cursor = conn.cursor()"
   ]
  },
  {
   "cell_type": "code",
   "execution_count": 14,
   "metadata": {},
   "outputs": [],
   "source": [
    "sql_1 = (\n",
    "    'select * into movies_top from (select movieId, count(rating) as ratings_num, avg(rating) as ratings_avg '\n",
    "    'from ratings group by movieId having avg(rating) > 3) as _top'\n",
    "        )"
   ]
  },
  {
   "cell_type": "code",
   "execution_count": 15,
   "metadata": {},
   "outputs": [],
   "source": [
    "cursor.execute(sql_1)\n",
    "conn.commit()"
   ]
  },
  {
   "cell_type": "code",
   "execution_count": 17,
   "metadata": {},
   "outputs": [
    {
     "data": {
      "text/plain": [
       "[(790, 6, 3.16666666666667),\n",
       " (146688, 2, 3.25),\n",
       " (69906, 1, 5.0),\n",
       " (26745, 5, 3.3),\n",
       " (3936, 18, 3.44444444444444),\n",
       " (88837, 3, 3.16666666666667),\n",
       " (31297, 1, 4.5),\n",
       " (5468, 6, 3.75),\n",
       " (49200, 3, 3.33333333333333),\n",
       " (155078, 1, 4.5)]"
      ]
     },
     "execution_count": 17,
     "metadata": {},
     "output_type": "execute_result"
    }
   ],
   "source": [
    "# Проверка - выгружаем данные\n",
    "cursor.execute(\"SELECT * FROM movies_top LIMIT 10\")\n",
    "[i for i in cursor.fetchall()]"
   ]
  },
  {
   "cell_type": "code",
   "execution_count": 18,
   "metadata": {},
   "outputs": [],
   "source": [
    "# Задание по SQLAlchemy\n",
    "# --------------------------------------------------------------\n",
    "Base = declarative_base()\n",
    "\n",
    "\n",
    "class MoviesTop(Base):\n",
    "    __tablename__ = 'movies_top'\n",
    "\n",
    "    movieid = Column(Integer, primary_key=True)\n",
    "    ratings_num = Column(Float)\n",
    "    ratings_avg = Column(Float)\n",
    "\n",
    "    def __repr__(self):\n",
    "        return \"<User(movieid='%s', ratings_num='%s', ratings_avg='%s')>\" % (self.movieid, self.ratings_num, self.ratings_avg)"
   ]
  },
  {
   "cell_type": "code",
   "execution_count": 24,
   "metadata": {},
   "outputs": [],
   "source": [
    "# Создаём сессию\n",
    "\n",
    "engine = create_engine('postgresql://{}:{}@{}:{}/{}'.format(db_params[\"user\"], db_params[\"password\"],\n",
    "                                                         db_params[\"host\"], db_params[\"port\"], db_params[\"dbname\"]))\n",
    "Session = sessionmaker(bind=engine)\n",
    "session = Session()"
   ]
  },
  {
   "cell_type": "code",
   "execution_count": 45,
   "metadata": {},
   "outputs": [],
   "source": [
    "sa_query = session.query(MoviesTop.movieid).filter(MoviesTop.ratings_num>15).filter(MoviesTop.ratings_avg>3.5).order_by(MoviesTop.ratings_avg)"
   ]
  },
  {
   "cell_type": "code",
   "execution_count": 108,
   "metadata": {},
   "outputs": [],
   "source": [
    "top_ids = np.array(sa_query.all())"
   ]
  },
  {
   "cell_type": "code",
   "execution_count": 111,
   "metadata": {},
   "outputs": [],
   "source": [
    "top_ids = top_ids.flatten()"
   ]
  },
  {
   "cell_type": "code",
   "execution_count": 53,
   "metadata": {},
   "outputs": [],
   "source": [
    "# Прочитаем теги из psql, разберем и положим в mongo"
   ]
  },
  {
   "cell_type": "code",
   "execution_count": 55,
   "metadata": {},
   "outputs": [],
   "source": [
    "cursor.execute(\"SELECT * FROM keywords\")\n",
    "kwords =  cursor.fetchall()"
   ]
  },
  {
   "cell_type": "code",
   "execution_count": 73,
   "metadata": {},
   "outputs": [],
   "source": [
    "tags_data = []"
   ]
  },
  {
   "cell_type": "code",
   "execution_count": 77,
   "metadata": {},
   "outputs": [],
   "source": [
    "for l in kwords:\n",
    "    tags = eval(l[1])\n",
    "    for tag in tags:\n",
    "        tag.update({'movieId': l[0]})\n",
    "        tags_data.append(tag)"
   ]
  },
  {
   "cell_type": "code",
   "execution_count": 78,
   "metadata": {},
   "outputs": [
    {
     "data": {
      "text/plain": [
       "158680"
      ]
     },
     "execution_count": 78,
     "metadata": {},
     "output_type": "execute_result"
    }
   ],
   "source": [
    "len(tags_data)"
   ]
  },
  {
   "cell_type": "code",
   "execution_count": 87,
   "metadata": {},
   "outputs": [
    {
     "data": {
      "text/plain": [
       "[{'id': 931, 'name': 'jealousy', 'movieId': 862},\n",
       " {'id': 4290, 'name': 'toy', 'movieId': 862},\n",
       " {'id': 5202, 'name': 'boy', 'movieId': 862},\n",
       " {'id': 6054, 'name': 'friendship', 'movieId': 862},\n",
       " {'id': 9713, 'name': 'friends', 'movieId': 862},\n",
       " {'id': 9823, 'name': 'rivalry', 'movieId': 862},\n",
       " {'id': 165503, 'name': 'boy next door', 'movieId': 862},\n",
       " {'id': 170722, 'name': 'new toy', 'movieId': 862},\n",
       " {'id': 187065, 'name': 'toy comes to life', 'movieId': 862},\n",
       " {'id': 10090, 'name': 'board game', 'movieId': 8844}]"
      ]
     },
     "execution_count": 87,
     "metadata": {},
     "output_type": "execute_result"
    }
   ],
   "source": [
    "tags_data[:10]"
   ]
  },
  {
   "cell_type": "code",
   "execution_count": 88,
   "metadata": {},
   "outputs": [],
   "source": [
    "mongo_params = {\n",
    "    'host': 'localhost',\n",
    "    'port': 27017\n",
    "}\n",
    "\n",
    "mongo = MongoClient(**mongo_params)"
   ]
  },
  {
   "cell_type": "code",
   "execution_count": 92,
   "metadata": {},
   "outputs": [],
   "source": [
    "mongo_db = mongo.get_database(name = \"test_db\")"
   ]
  },
  {
   "cell_type": "code",
   "execution_count": 93,
   "metadata": {},
   "outputs": [],
   "source": [
    "#положили один раз и закомментировали\n",
    "\n",
    "#mongo_coll = mongo_db.tags_collection\n",
    "#mongo_coll.insert_many(tags_data)"
   ]
  },
  {
   "cell_type": "code",
   "execution_count": 124,
   "metadata": {},
   "outputs": [],
   "source": [
    "mongo_query = mongo_db.tags_collection.find({'movieId': {'$in':top_ids.tolist()}})"
   ]
  },
  {
   "cell_type": "code",
   "execution_count": 125,
   "metadata": {},
   "outputs": [],
   "source": [
    "df =  pd.DataFrame(list(mongo_query))"
   ]
  },
  {
   "cell_type": "code",
   "execution_count": 130,
   "metadata": {},
   "outputs": [
    {
     "data": {
      "text/html": [
       "<div>\n",
       "<style scoped>\n",
       "    .dataframe tbody tr th:only-of-type {\n",
       "        vertical-align: middle;\n",
       "    }\n",
       "\n",
       "    .dataframe tbody tr th {\n",
       "        vertical-align: top;\n",
       "    }\n",
       "\n",
       "    .dataframe thead th {\n",
       "        text-align: right;\n",
       "    }\n",
       "</style>\n",
       "<table border=\"1\" class=\"dataframe\">\n",
       "  <thead>\n",
       "    <tr style=\"text-align: right;\">\n",
       "      <th></th>\n",
       "      <th>_id</th>\n",
       "      <th>id</th>\n",
       "      <th>movieId</th>\n",
       "      <th>name</th>\n",
       "    </tr>\n",
       "  </thead>\n",
       "  <tbody>\n",
       "    <tr>\n",
       "      <th>0</th>\n",
       "      <td>5c390e2851a9d431f8f76236</td>\n",
       "      <td>642</td>\n",
       "      <td>949</td>\n",
       "      <td>robbery</td>\n",
       "    </tr>\n",
       "    <tr>\n",
       "      <th>1</th>\n",
       "      <td>5c390e2851a9d431f8f76237</td>\n",
       "      <td>703</td>\n",
       "      <td>949</td>\n",
       "      <td>detective</td>\n",
       "    </tr>\n",
       "    <tr>\n",
       "      <th>2</th>\n",
       "      <td>5c390e2851a9d431f8f76238</td>\n",
       "      <td>974</td>\n",
       "      <td>949</td>\n",
       "      <td>bank</td>\n",
       "    </tr>\n",
       "    <tr>\n",
       "      <th>3</th>\n",
       "      <td>5c390e2851a9d431f8f76239</td>\n",
       "      <td>1523</td>\n",
       "      <td>949</td>\n",
       "      <td>obsession</td>\n",
       "    </tr>\n",
       "    <tr>\n",
       "      <th>4</th>\n",
       "      <td>5c390e2851a9d431f8f7623a</td>\n",
       "      <td>3713</td>\n",
       "      <td>949</td>\n",
       "      <td>chase</td>\n",
       "    </tr>\n",
       "  </tbody>\n",
       "</table>\n",
       "</div>"
      ],
      "text/plain": [
       "                        _id    id  movieId       name\n",
       "0  5c390e2851a9d431f8f76236   642      949    robbery\n",
       "1  5c390e2851a9d431f8f76237   703      949  detective\n",
       "2  5c390e2851a9d431f8f76238   974      949       bank\n",
       "3  5c390e2851a9d431f8f76239  1523      949  obsession\n",
       "4  5c390e2851a9d431f8f7623a  3713      949      chase"
      ]
     },
     "execution_count": 130,
     "metadata": {},
     "output_type": "execute_result"
    }
   ],
   "source": [
    "df.head()"
   ]
  },
  {
   "cell_type": "code",
   "execution_count": 141,
   "metadata": {},
   "outputs": [
    {
     "data": {
      "text/html": [
       "<div>\n",
       "<style scoped>\n",
       "    .dataframe tbody tr th:only-of-type {\n",
       "        vertical-align: middle;\n",
       "    }\n",
       "\n",
       "    .dataframe tbody tr th {\n",
       "        vertical-align: top;\n",
       "    }\n",
       "\n",
       "    .dataframe thead th {\n",
       "        text-align: right;\n",
       "    }\n",
       "</style>\n",
       "<table border=\"1\" class=\"dataframe\">\n",
       "  <thead>\n",
       "    <tr style=\"text-align: right;\">\n",
       "      <th></th>\n",
       "      <th>_id</th>\n",
       "      <th>id</th>\n",
       "      <th>movieId</th>\n",
       "    </tr>\n",
       "    <tr>\n",
       "      <th>name</th>\n",
       "      <th></th>\n",
       "      <th></th>\n",
       "      <th></th>\n",
       "    </tr>\n",
       "  </thead>\n",
       "  <tbody>\n",
       "    <tr>\n",
       "      <th>murder</th>\n",
       "      <td>39</td>\n",
       "      <td>39</td>\n",
       "      <td>39</td>\n",
       "    </tr>\n",
       "    <tr>\n",
       "      <th>independent film</th>\n",
       "      <td>38</td>\n",
       "      <td>38</td>\n",
       "      <td>38</td>\n",
       "    </tr>\n",
       "    <tr>\n",
       "      <th>friendship</th>\n",
       "      <td>33</td>\n",
       "      <td>33</td>\n",
       "      <td>33</td>\n",
       "    </tr>\n",
       "    <tr>\n",
       "      <th>suspense</th>\n",
       "      <td>29</td>\n",
       "      <td>29</td>\n",
       "      <td>29</td>\n",
       "    </tr>\n",
       "    <tr>\n",
       "      <th>dying and death</th>\n",
       "      <td>29</td>\n",
       "      <td>29</td>\n",
       "      <td>29</td>\n",
       "    </tr>\n",
       "  </tbody>\n",
       "</table>\n",
       "</div>"
      ],
      "text/plain": [
       "                  _id  id  movieId\n",
       "name                              \n",
       "murder             39  39       39\n",
       "independent film   38  38       38\n",
       "friendship         33  33       33\n",
       "suspense           29  29       29\n",
       "dying and death    29  29       29"
      ]
     },
     "execution_count": 141,
     "metadata": {},
     "output_type": "execute_result"
    }
   ],
   "source": [
    "df.groupby(by=\"name\").count().sort_values(by='movieId',ascending=False).head(5)"
   ]
  },
  {
   "cell_type": "code",
   "execution_count": null,
   "metadata": {},
   "outputs": [],
   "source": []
  }
 ],
 "metadata": {
  "kernelspec": {
   "display_name": "Python 3",
   "language": "python",
   "name": "python3"
  },
  "language_info": {
   "codemirror_mode": {
    "name": "ipython",
    "version": 3
   },
   "file_extension": ".py",
   "mimetype": "text/x-python",
   "name": "python",
   "nbconvert_exporter": "python",
   "pygments_lexer": "ipython3",
   "version": "3.7.0"
  }
 },
 "nbformat": 4,
 "nbformat_minor": 2
}
