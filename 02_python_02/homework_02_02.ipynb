{
 "cells": [
  {
   "cell_type": "code",
   "execution_count": 14,
   "metadata": {},
   "outputs": [],
   "source": [
    "geo_logs = {\n",
    "\n",
    "'visit1': ['Москва', 'Россия'],\n",
    "\n",
    "'visit2': ['Дели', 'Индия'],\n",
    "\n",
    "'visit3': ['Владимир', 'Россия'],\n",
    "\n",
    "'visit4': ['Лиссабон', 'Португалия'],\n",
    "\n",
    "'visit5': ['Париж', 'Франция'],\n",
    "\n",
    "'visit6': ['Лиссабон', 'Португалия'],\n",
    "\n",
    "'visit7': ['Тула', 'Россия'],\n",
    "\n",
    "'visit8': ['Тула', 'Россия'],\n",
    "\n",
    "'visit9': ['Курск', 'Россия'],\n",
    "\n",
    "'visit10': ['Архангельск', 'Россия']\n",
    "\n",
    "}"
   ]
  },
  {
   "cell_type": "code",
   "execution_count": 34,
   "metadata": {},
   "outputs": [
    {
     "data": {
      "text/plain": [
       "[('visit10', ['Архангельск', 'Россия']),\n",
       " ('visit3', ['Владимир', 'Россия']),\n",
       " ('visit9', ['Курск', 'Россия']),\n",
       " ('visit1', ['Москва', 'Россия']),\n",
       " ('visit7', ['Тула', 'Россия']),\n",
       " ('visit8', ['Тула', 'Россия'])]"
      ]
     },
     "execution_count": 34,
     "metadata": {},
     "output_type": "execute_result"
    }
   ],
   "source": [
    "filtered = []\n",
    "for i in geo_logs.items():\n",
    "    if(i[1][1] == \"Россия\"):\n",
    "        filtered.append(i)\n",
    "  \n",
    "sorted(filtered, key = lambda x: x[1][0])"
   ]
  },
  {
   "cell_type": "code",
   "execution_count": 35,
   "metadata": {},
   "outputs": [],
   "source": [
    "ids = {'user1': [213, 213, 213, 15, 213], 'user2': [54, 54, 119, 119, 119], 'user3': [213, 98, 98, 35]}"
   ]
  },
  {
   "cell_type": "code",
   "execution_count": 40,
   "metadata": {},
   "outputs": [
    {
     "name": "stdout",
     "output_type": "stream",
     "text": [
      "{98, 35, 15, 213, 54, 119}\n"
     ]
    }
   ],
   "source": [
    "all_ids = []\n",
    "for i in ids.values():\n",
    "    all_ids += i\n",
    "    \n",
    "print(set(all_ids))"
   ]
  },
  {
   "cell_type": "code",
   "execution_count": 63,
   "metadata": {},
   "outputs": [],
   "source": [
    "queries = [\n",
    "\n",
    "'смотреть сериалы онлайн',\n",
    "\n",
    "'новости спорта',\n",
    "\n",
    "'афиша кино',\n",
    "\n",
    "'курс доллара',\n",
    "\n",
    "'сериалы этим летом',\n",
    "\n",
    "'курс по питону',\n",
    "\n",
    "'сериалы про спорт',\n",
    "\n",
    "]"
   ]
  },
  {
   "cell_type": "code",
   "execution_count": 65,
   "metadata": {},
   "outputs": [
    {
     "name": "stdout",
     "output_type": "stream",
     "text": [
      "Количество слов для каждого запроса:  [3, 2, 2, 2, 3, 3, 3]\n",
      "Всего запросов:  7\n"
     ]
    }
   ],
   "source": [
    "words_count = [len(st.split(' ')) for st in queries]\n",
    "items_count = len(words_count)\n",
    "\n",
    "print(\"Количество слов для каждого запроса: \", words_count)\n",
    "print(\"Всего запросов: \", items_count)"
   ]
  },
  {
   "cell_type": "code",
   "execution_count": 66,
   "metadata": {},
   "outputs": [
    {
     "name": "stdout",
     "output_type": "stream",
     "text": [
      "Запрос с кол-вом слов 1 встречается 0 раз/раза. Это 0%\n",
      "Запрос с кол-вом слов 2 встречается 3 раз/раза. Это 43%\n",
      "Запрос с кол-вом слов 3 встречается 4 раз/раза. Это 57%\n"
     ]
    }
   ],
   "source": [
    "for i in range(1, max(words_count)+1):\n",
    "    cur_count = sum([c == i for c in words_count])\n",
    "    print('Запрос с кол-вом слов {0} встречается {1} раз/раза. Это {2:.0%}'.format(i, cur_count, cur_count/items_count))"
   ]
  },
  {
   "cell_type": "code",
   "execution_count": null,
   "metadata": {},
   "outputs": [],
   "source": []
  }
 ],
 "metadata": {
  "kernelspec": {
   "display_name": "Python 3",
   "language": "python",
   "name": "python3"
  },
  "language_info": {
   "codemirror_mode": {
    "name": "ipython",
    "version": 3
   },
   "file_extension": ".py",
   "mimetype": "text/x-python",
   "name": "python",
   "nbconvert_exporter": "python",
   "pygments_lexer": "ipython3",
   "version": "3.7.0"
  }
 },
 "nbformat": 4,
 "nbformat_minor": 2
}
