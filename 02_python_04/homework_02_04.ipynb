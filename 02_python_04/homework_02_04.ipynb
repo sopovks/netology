{
 "cells": [
  {
   "cell_type": "code",
   "execution_count": 108,
   "metadata": {},
   "outputs": [],
   "source": [
    "from datetime import datetime\n",
    "from datetime import timedelta\n",
    "\n",
    "#1\n",
    "def date_range(start_date, end_date):\n",
    "    \n",
    "    start_date_dt = datetime.strptime(start_date, '%Y-%m-%d')\n",
    "    end_date_dt = datetime.strptime(end_date, '%Y-%m-%d')\n",
    "    \n",
    "    dates_list = []\n",
    "    \n",
    "    while start_date_dt <= end_date_dt:\n",
    "        dates_list.append(start_date_dt)\n",
    "        start_date_dt += timedelta(days=1)\n",
    "    \n",
    "    return dates_list"
   ]
  },
  {
   "cell_type": "code",
   "execution_count": 109,
   "metadata": {},
   "outputs": [
    {
     "name": "stdout",
     "output_type": "stream",
     "text": [
      "[datetime.datetime(2018, 1, 1, 0, 0), datetime.datetime(2018, 1, 2, 0, 0), datetime.datetime(2018, 1, 3, 0, 0), datetime.datetime(2018, 1, 4, 0, 0), datetime.datetime(2018, 1, 5, 0, 0), datetime.datetime(2018, 1, 6, 0, 0), datetime.datetime(2018, 1, 7, 0, 0), datetime.datetime(2018, 1, 8, 0, 0), datetime.datetime(2018, 1, 9, 0, 0), datetime.datetime(2018, 1, 10, 0, 0), datetime.datetime(2018, 1, 11, 0, 0), datetime.datetime(2018, 1, 12, 0, 0), datetime.datetime(2018, 1, 13, 0, 0), datetime.datetime(2018, 1, 14, 0, 0), datetime.datetime(2018, 1, 15, 0, 0), datetime.datetime(2018, 1, 16, 0, 0), datetime.datetime(2018, 1, 17, 0, 0), datetime.datetime(2018, 1, 18, 0, 0), datetime.datetime(2018, 1, 19, 0, 0), datetime.datetime(2018, 1, 20, 0, 0), datetime.datetime(2018, 1, 21, 0, 0), datetime.datetime(2018, 1, 22, 0, 0), datetime.datetime(2018, 1, 23, 0, 0), datetime.datetime(2018, 1, 24, 0, 0), datetime.datetime(2018, 1, 25, 0, 0), datetime.datetime(2018, 1, 26, 0, 0), datetime.datetime(2018, 1, 27, 0, 0), datetime.datetime(2018, 1, 28, 0, 0), datetime.datetime(2018, 1, 29, 0, 0), datetime.datetime(2018, 1, 30, 0, 0)]\n"
     ]
    }
   ],
   "source": [
    "print(date_range('2018-01-01','2018-01-30'))"
   ]
  },
  {
   "cell_type": "code",
   "execution_count": 110,
   "metadata": {},
   "outputs": [],
   "source": [
    "#2\n",
    "def date_range2(start_date, end_date):\n",
    "    \n",
    "    dates_list = []\n",
    "        \n",
    "    try:\n",
    "        start_date_dt = datetime.strptime(start_date, '%Y-%m-%d')\n",
    "    except ValueError:\n",
    "        return dates_list\n",
    "    \n",
    "    try:\n",
    "        end_date_dt = datetime.strptime(end_date, '%Y-%m-%d')\n",
    "    except ValueError:\n",
    "        return dates_list\n",
    "    \n",
    "    if (end_date_dt < start_date_dt):\n",
    "        return dates_list\n",
    "    \n",
    "    while start_date_dt <= end_date_dt:\n",
    "        dates_list.append(start_date_dt)\n",
    "        start_date_dt += timedelta(days=1)\n",
    "    \n",
    "    return dates_list"
   ]
  },
  {
   "cell_type": "code",
   "execution_count": 111,
   "metadata": {},
   "outputs": [
    {
     "name": "stdout",
     "output_type": "stream",
     "text": [
      "[datetime.datetime(2018, 2, 10, 0, 0), datetime.datetime(2018, 2, 11, 0, 0), datetime.datetime(2018, 2, 12, 0, 0), datetime.datetime(2018, 2, 13, 0, 0), datetime.datetime(2018, 2, 14, 0, 0)]\n"
     ]
    }
   ],
   "source": [
    "print(date_range2('2018-02-10','2018-02-14'))"
   ]
  },
  {
   "cell_type": "code",
   "execution_count": 112,
   "metadata": {},
   "outputs": [
    {
     "name": "stdout",
     "output_type": "stream",
     "text": [
      "[]\n"
     ]
    }
   ],
   "source": [
    "print(date_range2('2018-02-10','2018-01-14'))"
   ]
  },
  {
   "cell_type": "code",
   "execution_count": 113,
   "metadata": {},
   "outputs": [
    {
     "name": "stdout",
     "output_type": "stream",
     "text": [
      "[]\n"
     ]
    }
   ],
   "source": [
    "print(date_range2('2018-02-10','ddd'))"
   ]
  },
  {
   "cell_type": "code",
   "execution_count": 114,
   "metadata": {},
   "outputs": [],
   "source": [
    "#3\n",
    "\n",
    "def check_dates(d_list):\n",
    "    res = {}\n",
    "    for dt in d_list:\n",
    "        try:\n",
    "            dt_dt = datetime.strptime(dt, '%Y-%m-%d')\n",
    "            res.setdefault(dt,True)\n",
    "        except ValueError:\n",
    "            res.setdefault(dt,False)\n",
    "    \n",
    "    return res"
   ]
  },
  {
   "cell_type": "code",
   "execution_count": 115,
   "metadata": {},
   "outputs": [
    {
     "data": {
      "text/plain": [
       "{'2018-04-02': True, '2018-02-29': False, '2018-19-02': False}"
      ]
     },
     "execution_count": 115,
     "metadata": {},
     "output_type": "execute_result"
    }
   ],
   "source": [
    "stream = ['2018-04-02', '2018-02-29', '2018-19-02']\n",
    "check_dates(stream)"
   ]
  },
  {
   "cell_type": "code",
   "execution_count": 116,
   "metadata": {},
   "outputs": [],
   "source": [
    "#4\n",
    "\n",
    "def func_4(dt_4):\n",
    "    res_4 = []\n",
    "    if (dt_4.day == 1):\n",
    "        dt_4_1 = datetime(dt_4.year, dt_4.month-1, 1)\n",
    "        dt_4_2 = dt_4 - timedelta(days=1)\n",
    "    else:\n",
    "        dt_4_1 = datetime(dt_4.year, dt_4.month, 1)\n",
    "        dt_4_2 = datetime(dt_4.year, dt_4.month, dt_4.day-1)\n",
    "        \n",
    "    while dt_4_1 <= dt_4_2:\n",
    "        res_4.append(dt_4_1)\n",
    "        dt_4_1 += timedelta(days=1)\n",
    "            \n",
    "    return res_4"
   ]
  },
  {
   "cell_type": "code",
   "execution_count": 117,
   "metadata": {},
   "outputs": [
    {
     "name": "stdout",
     "output_type": "stream",
     "text": [
      "[datetime.datetime(2018, 12, 1, 0, 0), datetime.datetime(2018, 12, 2, 0, 0), datetime.datetime(2018, 12, 3, 0, 0), datetime.datetime(2018, 12, 4, 0, 0), datetime.datetime(2018, 12, 5, 0, 0), datetime.datetime(2018, 12, 6, 0, 0), datetime.datetime(2018, 12, 7, 0, 0), datetime.datetime(2018, 12, 8, 0, 0), datetime.datetime(2018, 12, 9, 0, 0), datetime.datetime(2018, 12, 10, 0, 0), datetime.datetime(2018, 12, 11, 0, 0), datetime.datetime(2018, 12, 12, 0, 0), datetime.datetime(2018, 12, 13, 0, 0), datetime.datetime(2018, 12, 14, 0, 0), datetime.datetime(2018, 12, 15, 0, 0)]\n"
     ]
    }
   ],
   "source": [
    "print(func_4(datetime.now()))"
   ]
  },
  {
   "cell_type": "code",
   "execution_count": 118,
   "metadata": {},
   "outputs": [
    {
     "name": "stdout",
     "output_type": "stream",
     "text": [
      "[datetime.datetime(2018, 11, 1, 0, 0), datetime.datetime(2018, 11, 2, 0, 0), datetime.datetime(2018, 11, 3, 0, 0), datetime.datetime(2018, 11, 4, 0, 0), datetime.datetime(2018, 11, 5, 0, 0), datetime.datetime(2018, 11, 6, 0, 0), datetime.datetime(2018, 11, 7, 0, 0), datetime.datetime(2018, 11, 8, 0, 0), datetime.datetime(2018, 11, 9, 0, 0), datetime.datetime(2018, 11, 10, 0, 0), datetime.datetime(2018, 11, 11, 0, 0), datetime.datetime(2018, 11, 12, 0, 0), datetime.datetime(2018, 11, 13, 0, 0), datetime.datetime(2018, 11, 14, 0, 0), datetime.datetime(2018, 11, 15, 0, 0), datetime.datetime(2018, 11, 16, 0, 0), datetime.datetime(2018, 11, 17, 0, 0), datetime.datetime(2018, 11, 18, 0, 0), datetime.datetime(2018, 11, 19, 0, 0), datetime.datetime(2018, 11, 20, 0, 0), datetime.datetime(2018, 11, 21, 0, 0), datetime.datetime(2018, 11, 22, 0, 0), datetime.datetime(2018, 11, 23, 0, 0), datetime.datetime(2018, 11, 24, 0, 0), datetime.datetime(2018, 11, 25, 0, 0), datetime.datetime(2018, 11, 26, 0, 0), datetime.datetime(2018, 11, 27, 0, 0), datetime.datetime(2018, 11, 28, 0, 0), datetime.datetime(2018, 11, 29, 0, 0), datetime.datetime(2018, 11, 30, 0, 0)]\n"
     ]
    }
   ],
   "source": [
    "print(func_4(datetime(2018,12,1)))"
   ]
  },
  {
   "cell_type": "code",
   "execution_count": 119,
   "metadata": {},
   "outputs": [],
   "source": [
    "#5\n",
    "\n",
    "def func_5(phrase):\n",
    "    words = phrase.split()\n",
    "    for i in range(0, len(words)):\n",
    "        \n",
    "        if (words[i] == 'today'):\n",
    "            dt_5 = datetime.now()\n",
    "            words[i] = dt_5.strftime('%Y-%m-%d')\n",
    "            \n",
    "        if (words[i] == 'last' and words[i+1] == 'monday'):\n",
    "            dt_5 = datetime.now()\n",
    "            if (dt_5.weekday() == 0):\n",
    "                dt_5 -= timedelta(days=7)\n",
    "            else:\n",
    "                dt_5 -= timedelta(dt_5.weekday())\n",
    "            words[i] = dt_5.strftime('%Y-%m-%d')\n",
    "            words[i+1] = ''\n",
    "            \n",
    "        if (words[i] == 'last' and words[i+1] == 'day'):\n",
    "            dt_5 = datetime.now()\n",
    "            if (dt_5.month < 12):\n",
    "                dt_5 = datetime(dt_5.year, dt_5.month+1,1)\n",
    "            else:\n",
    "                dt_5 = datetime(dt_5.year+1,1,1)\n",
    "            dt_5 -= timedelta(days=1)\n",
    "            words[i] = dt_5.strftime('%Y-%m-%d')\n",
    "            words[i+1] = ''\n",
    "            \n",
    "    return ' '.join(words)"
   ]
  },
  {
   "cell_type": "code",
   "execution_count": 120,
   "metadata": {},
   "outputs": [
    {
     "name": "stdout",
     "output_type": "stream",
     "text": [
      "What day is it 2018-12-16\n",
      "We had a dinner 2018-12-10 \n",
      "Im going to visit sauna the 2018-12-31 \n"
     ]
    }
   ],
   "source": [
    "print(func_5('What day is it today'))\n",
    "print(func_5('We had a dinner last monday'))\n",
    "print(func_5('Im going to visit sauna the last day'))"
   ]
  },
  {
   "cell_type": "code",
   "execution_count": 129,
   "metadata": {},
   "outputs": [
    {
     "name": "stdout",
     "output_type": "stream",
     "text": [
      "[['2018-12-17', '2018-12-18', '2018-12-19', '2018-12-20', '2018-12-21', '2018-12-22', '2018-12-23'], ['2018-12-24', '2018-12-25', '2018-12-26', '2018-12-27', '2018-12-28', '2018-12-29', '2018-12-30'], ['2018-12-31', '2019-01-01', '2019-01-02', '2019-01-03', '2019-01-04', '2019-01-05', '2019-01-06'], ['2019-01-07', '2019-01-08', '2019-01-09', '2019-01-10', '2019-01-11', '2019-01-12', '2019-01-13'], ['2019-01-14', '2019-01-15', '2019-01-16', '2019-01-17', '2019-01-18', '2019-01-19', '2019-01-20'], ['2019-01-21', '2019-01-22', '2019-01-23', '2019-01-24', '2019-01-25', '2019-01-26', '2019-01-27']]\n"
     ]
    }
   ],
   "source": [
    "#6\n",
    "\n",
    "def func_6(start_date_6, end_date_6):\n",
    "    res = []\n",
    "    dt_6_1 = datetime.strptime(start_date_6, '%Y-%m-%d')\n",
    "    dt_6_2 = datetime.strptime(end_date_6, '%Y-%m-%d')\n",
    "    \n",
    "    #skip to nearest monday\n",
    "    while (dt_6_1.weekday() != 0):\n",
    "        dt_6_1 += timedelta(days=1)\n",
    "    \n",
    "    week_res = []\n",
    "    while (dt_6_1 <= dt_6_2):\n",
    "        week_res.append(dt_6_1.strftime('%Y-%m-%d'))\n",
    "        dt_6_1 += timedelta(days=1)\n",
    "        \n",
    "        if (dt_6_1.weekday() == 0):\n",
    "            res.append(week_res)\n",
    "            week_res = []\n",
    "            \n",
    "            #cut days after latest sunday\n",
    "            if ((dt_6_2 - dt_6_1) <= timedelta(days=7)):\n",
    "                break\n",
    "    return res\n",
    "\n",
    "print(func_6('2018-12-15','2019-01-30'))"
   ]
  }
 ],
 "metadata": {
  "kernelspec": {
   "display_name": "Python 3",
   "language": "python",
   "name": "python3"
  },
  "language_info": {
   "codemirror_mode": {
    "name": "ipython",
    "version": 3
   },
   "file_extension": ".py",
   "mimetype": "text/x-python",
   "name": "python",
   "nbconvert_exporter": "python",
   "pygments_lexer": "ipython3",
   "version": "3.7.0"
  }
 },
 "nbformat": 4,
 "nbformat_minor": 2
}
